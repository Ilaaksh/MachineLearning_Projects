{
 "cells": [
  {
   "cell_type": "code",
   "execution_count": 5,
   "metadata": {},
   "outputs": [
    {
     "name": "stdout",
     "output_type": "stream",
     "text": [
      "Import Complete\n"
     ]
    }
   ],
   "source": [
    "import pandas as pd\n",
    "from sklearn.model_selection import train_test_split\n",
    "from sklearn.preprocessing import StandardScaler, OneHotEncoder\n",
    "from sklearn.impute import SimpleImputer\n",
    "from sklearn.neighbors import KNeighborsRegressor\n",
    "from sklearn.ensemble import RandomForestRegressor\n",
    "from sklearn.metrics import mean_squared_error, r2_score\n",
    "print('Import Complete')"
   ]
  },
  {
   "cell_type": "markdown",
   "metadata": {},
   "source": [
    "### Load DataSet"
   ]
  },
  {
   "cell_type": "code",
   "execution_count": 6,
   "metadata": {},
   "outputs": [],
   "source": [
    "# Load the dataset\n",
    "file_path = '/Users/ilaakshmishra/Documents/Machine_Learning/Assignment4/housing.csv'\n",
    "housing_data = pd.read_csv(file_path)"
   ]
  },
  {
   "cell_type": "markdown",
   "metadata": {},
   "source": [
    "### Preprocessing"
   ]
  },
  {
   "cell_type": "code",
   "execution_count": 7,
   "metadata": {},
   "outputs": [],
   "source": [
    "# Handle Missing Values\n",
    "imputer = SimpleImputer(strategy=\"median\")\n",
    "housing_num = housing_data.drop(\"ocean_proximity\", axis=1)\n",
    "imputed_data = imputer.fit_transform(housing_num)"
   ]
  },
  {
   "cell_type": "code",
   "execution_count": 8,
   "metadata": {},
   "outputs": [],
   "source": [
    "# Encode Categorical Variables\n",
    "housing_cat = housing_data[[\"ocean_proximity\"]]\n",
    "cat_encoder = OneHotEncoder()\n",
    "housing_cat_encoded = cat_encoder.fit_transform(housing_cat)"
   ]
  },
  {
   "cell_type": "markdown",
   "metadata": {},
   "source": [
    "### Feature Scaling"
   ]
  },
  {
   "cell_type": "code",
   "execution_count": 11,
   "metadata": {},
   "outputs": [],
   "source": [
    "scaler = StandardScaler()\n",
    "housing_scaled = scaler.fit_transform(imputed_data)"
   ]
  },
  {
   "cell_type": "markdown",
   "metadata": {},
   "source": [
    "### Reconstruct Database"
   ]
  },
  {
   "cell_type": "code",
   "execution_count": 13,
   "metadata": {},
   "outputs": [],
   "source": [
    "housing_preprocessed = pd.DataFrame(\n",
    "    housing_scaled, columns=housing_num.columns, index=housing_data.index)\n",
    "housing_cat_df = pd.DataFrame(\n",
    "    housing_cat_encoded.toarray(), columns=cat_encoder.get_feature_names_out(), index=housing_data.index)\n",
    "housing_preprocessed = pd.concat([housing_preprocessed, housing_cat_df], axis=1)"
   ]
  },
  {
   "cell_type": "markdown",
   "metadata": {},
   "source": [
    "### Splitting Database"
   ]
  },
  {
   "cell_type": "code",
   "execution_count": 14,
   "metadata": {},
   "outputs": [],
   "source": [
    "X = housing_preprocessed\n",
    "y = housing_data[\"median_house_value\"]\n",
    "X_train, X_test, y_train, y_test = train_test_split(X, y, test_size=0.2, random_state=42)"
   ]
  },
  {
   "cell_type": "markdown",
   "metadata": {},
   "source": [
    "### KNN"
   ]
  },
  {
   "cell_type": "code",
   "execution_count": 16,
   "metadata": {},
   "outputs": [],
   "source": [
    "# K-Nearest Neighbors\n",
    "knn = KNeighborsRegressor(n_neighbors=5)\n",
    "knn.fit(X_train, y_train)\n",
    "y_pred_knn = knn.predict(X_test)\n",
    "mse_knn = mean_squared_error(y_test, y_pred_knn)\n",
    "r2_knn = r2_score(y_test, y_pred_knn)\n"
   ]
  },
  {
   "cell_type": "code",
   "execution_count": 17,
   "metadata": {},
   "outputs": [
    {
     "name": "stdout",
     "output_type": "stream",
     "text": [
      "KNN Mean Squared Error: 318688517.9240795\n",
      "KNN R² Score: 0.9756802247835719\n"
     ]
    }
   ],
   "source": [
    "print(\"KNN Mean Squared Error:\", mse_knn)\n",
    "print(\"KNN R² Score:\", r2_knn)"
   ]
  },
  {
   "cell_type": "markdown",
   "metadata": {},
   "source": [
    "### Random Forest"
   ]
  },
  {
   "cell_type": "code",
   "execution_count": 18,
   "metadata": {},
   "outputs": [],
   "source": [
    "rf = RandomForestRegressor(random_state=42)\n",
    "rf.fit(X_train, y_train)\n",
    "y_pred_rf = rf.predict(X_test)\n",
    "mse_rf = mean_squared_error(y_test, y_pred_rf)\n",
    "r2_rf = r2_score(y_test, y_pred_rf)"
   ]
  },
  {
   "cell_type": "code",
   "execution_count": 19,
   "metadata": {},
   "outputs": [
    {
     "name": "stdout",
     "output_type": "stream",
     "text": [
      "Random Forest Mean Squared Error: 5487.71285130814\n",
      "Random Forest R² Score: 0.9999995812213636\n"
     ]
    }
   ],
   "source": [
    "print(\"Random Forest Mean Squared Error:\", mse_rf)\n",
    "print(\"Random Forest R² Score:\", r2_rf)"
   ]
  },
  {
   "cell_type": "markdown",
   "metadata": {},
   "source": [
    "### Model Evaluation and Interpretation"
   ]
  },
  {
   "cell_type": "code",
   "execution_count": 20,
   "metadata": {},
   "outputs": [
    {
     "name": "stdout",
     "output_type": "stream",
     "text": [
      "Model Evaluation and Interpretation:\n",
      "\n",
      "K-Nearest Neighbors (KNN):\n",
      "Mean Squared Error (MSE): 318688517.92\n",
      "R² Score: 0.9757\n",
      "Interpretation: A higher MSE suggests the model may not be very accurate in predictions.\n",
      "A high R² score indicates the model explains a significant portion of the variance in the target variable.\n",
      "\n",
      "Random Forest:\n",
      "Mean Squared Error (MSE): 5487.71\n",
      "R² Score: 1.0000\n",
      "Interpretation: A lower MSE indicates a better fit to the data.\n",
      "A near-perfect R² score might suggest overfitting, where the model performs exceptionally well on training data but may not generalize as well.\n",
      "\n",
      "Overall Comparison:\n",
      "Random Forest has a lower MSE, indicating better accuracy in this case.\n",
      "Random Forest has a higher R² score, indicating it explains more variance in the target variable.\n",
      "\n",
      "Further Steps:\n",
      "Consider cross-validation for a more robust evaluation.\n",
      "Hyperparameter tuning may improve model performance.\n",
      "Investigate feature importance, especially for Random Forest.\n",
      "Compare with other regression algorithms.\n",
      "Conduct error analysis to understand where and why the models make errors.\n"
     ]
    }
   ],
   "source": [
    "print(\"Model Evaluation and Interpretation:\")\n",
    "\n",
    "# K-Nearest Neighbors (KNN) Evaluation\n",
    "print(\"\\nK-Nearest Neighbors (KNN):\")\n",
    "print(f\"Mean Squared Error (MSE): {mse_knn:.2f}\")\n",
    "print(f\"R² Score: {r2_knn:.4f}\")\n",
    "print(\"Interpretation: A higher MSE suggests the model may not be very accurate in predictions.\")\n",
    "print(\"A high R² score indicates the model explains a significant portion of the variance in the target variable.\")\n",
    "\n",
    "# Random Forest Evaluation\n",
    "print(\"\\nRandom Forest:\")\n",
    "print(f\"Mean Squared Error (MSE): {mse_rf:.2f}\")\n",
    "print(f\"R² Score: {r2_rf:.4f}\")\n",
    "print(\"Interpretation: A lower MSE indicates a better fit to the data.\")\n",
    "print(\"A near-perfect R² score might suggest overfitting, where the model performs exceptionally well on training data but may not generalize as well.\")\n",
    "\n",
    "# Overall Comparison\n",
    "print(\"\\nOverall Comparison:\")\n",
    "if mse_knn < mse_rf:\n",
    "    print(\"KNN has a lower MSE, indicating better accuracy in this case.\")\n",
    "else:\n",
    "    print(\"Random Forest has a lower MSE, indicating better accuracy in this case.\")\n",
    "\n",
    "if r2_knn < r2_rf:\n",
    "    print(\"Random Forest has a higher R² score, indicating it explains more variance in the target variable.\")\n",
    "else:\n",
    "    print(\"KNN has a higher R² score, indicating it explains more variance in the target variable.\")\n",
    "\n",
    "print(\"\\nFurther Steps:\")\n",
    "print(\"Consider cross-validation for a more robust evaluation.\")\n",
    "print(\"Hyperparameter tuning may improve model performance.\")\n",
    "print(\"Investigate feature importance, especially for Random Forest.\")\n",
    "print(\"Compare with other regression algorithms.\")\n",
    "print(\"Conduct error analysis to understand where and why the models make errors.\")\n"
   ]
  }
 ],
 "metadata": {
  "kernelspec": {
   "display_name": "base",
   "language": "python",
   "name": "python3"
  },
  "language_info": {
   "codemirror_mode": {
    "name": "ipython",
    "version": 3
   },
   "file_extension": ".py",
   "mimetype": "text/x-python",
   "name": "python",
   "nbconvert_exporter": "python",
   "pygments_lexer": "ipython3",
   "version": "3.10.13"
  }
 },
 "nbformat": 4,
 "nbformat_minor": 2
}
